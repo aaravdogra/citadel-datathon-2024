{
 "cells": [
  {
   "cell_type": "markdown",
   "id": "9f064351",
   "metadata": {},
   "source": [
    "# Citadel Datathon Spring 2024 Team 28"
   ]
  },
  {
   "cell_type": "code",
   "execution_count": null,
   "id": "c55bfc3e",
   "metadata": {},
   "outputs": [],
   "source": []
  }
 ],
 "metadata": {
  "language_info": {
   "name": "python"
  }
 },
 "nbformat": 4,
 "nbformat_minor": 5
}
