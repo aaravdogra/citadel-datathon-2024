{
 "cells": [
  {
   "cell_type": "code",
   "execution_count": 1,
   "id": "864bd359-06bf-4eaf-a23d-2ad6c11f987a",
   "metadata": {},
   "outputs": [],
   "source": [
    "import pandas as pd"
   ]
  },
  {
   "cell_type": "code",
   "execution_count": 5,
   "id": "0f399f90-da2d-4930-860c-c106395b327e",
   "metadata": {},
   "outputs": [
    {
     "name": "stderr",
     "output_type": "stream",
     "text": [
      "/var/folders/73/mqvvsvdn6k10b__2ljzg54s00000gn/T/ipykernel_50305/1406095656.py:1: DtypeWarning: Columns (18,19,21,22) have mixed types. Specify dtype option on import or set low_memory=False.\n",
      "  nutrition_and_obesity_data =  pd.read_csv('../data/provided-data-raw/Nutrition_Physical_Activity_and_Obesity_Data.csv')\n"
     ]
    }
   ],
   "source": [
    "nutrition_and_obesity_data =  pd.read_csv('../data/provided-data-raw/Nutrition_Physical_Activity_and_Obesity_Data.csv')\n",
    "\n",
    "# remove obviously useless or redundant data\n",
    "nutrition_and_obesity_data = nutrition_and_obesity_data.dropna(subset=['Data_Value'])\n",
    "nutrition_and_obesity_data = nutrition_and_obesity_data.drop(['YearEnd', 'Data_Value_Unit', 'Data_Value_Type', 'Data_Value_Alt',\n",
    "                                  'Data_Value_Footnote_Symbol', 'Data_Value_Footnote'], axis=1)\n",
    "nutrition_and_obesity_data = nutrition_and_obesity_data.rename(columns={'YearStart': 'Year'})\n",
    "\n",
    "# need to figure out how we want to further wrangle the data\n",
    "nutrition_and_obesity_data.to_csv('../data/provided-data-clean/nutrition-and-obesity-cleaned.csv')"
   ]
  },
  {
   "cell_type": "code",
   "execution_count": 11,
   "id": "8ec99f12-bc33-444d-a395-a006e5d294cb",
   "metadata": {},
   "outputs": [],
   "source": [
    "# extract specifically obesity data for students\n",
    "obesity_data = nutrition_and_obesity_data[nutrition_and_obesity_data['Question'] == \n",
    "                                          'Percent of adults aged 18 years and older who have obesity']\n",
    "obesity_state_2011 = obesity_data[obesity_data['Year'] == 2011].groupby('LocationAbbr').agg({'Data_Value': 'mean'}).reset_index()\n",
    "obesity_state_2011 = obesity_state_2011.rename(columns={'Data_Value': 'Mean_Obesity_Pct'})\n",
    "\n",
    "obesity_state_2015 = obesity_data[obesity_data['Year'] == 2015].groupby('LocationAbbr').agg({'Data_Value': 'mean'}).reset_index()\n",
    "obesity_state_2015 = obesity_state_2015.rename(columns={'Data_Value': 'Mean_Obesity_Pct'})\n",
    "\n",
    "obesity_state_2011.to_csv('../data/provided-data-clean/obesity-state-2011-cleaned.csv')\n",
    "obesity_state_2015.to_csv('../data/provided-data-clean/obesity-state-2015-cleaned.csv')"
   ]
  },
  {
   "cell_type": "code",
   "execution_count": 6,
   "id": "b443ce5c-08c5-4638-b089-29e2161f9f32",
   "metadata": {},
   "outputs": [
    {
     "name": "stdout",
     "output_type": "stream",
     "text": [
      "['LACCESS_POP10', 'LACCESS_POP15', 'LACCESS_LOWI10', 'LACCESS_LOWI15', 'LACCESS_HHNV10', 'LACCESS_HHNV15', 'LACCESS_SNAP15', 'LACCESS_CHILD10', 'LACCESS_CHILD15', 'LACCESS_SENIORS10', 'LACCESS_SENIORS15', 'LACCESS_WHITE15', 'LACCESS_BLACK15', 'LACCESS_HISP15', 'LACCESS_NHASIAN15', 'LACCESS_NHNA15', 'LACCESS_NHPI15', 'LACCESS_MULTIR15', 'GROC11', 'GROC16', 'GROCPTH11', 'GROCPTH16', 'SUPERC11', 'SUPERC16', 'SUPERCPTH11', 'SUPERCPTH16', 'CONVS11', 'CONVS16', 'CONVSPTH11', 'CONVSPTH16', 'SPECS11', 'SPECS16', 'SPECSPTH11', 'SPECSPTH16', 'SNAPS12', 'SNAPS17', 'SNAPSPTH12', 'SNAPSPTH17', 'WICS11', 'WICS16', 'WICSPTH11', 'WICSPTH16', 'FFR11', 'FFR16', 'FFRPTH11', 'FFRPTH16', 'FSR11', 'FSR16', 'FSRPTH11', 'FSRPTH16', 'PC_FFRSALES07', 'PC_FFRSALES12', 'PC_FSRSALES07', 'PC_FSRSALES12', 'FOOD_BANKS18', 'FMRKT13', 'FMRKT18', 'FMRKTPTH13', 'FMRKTPTH18', 'FMRKT_FRVEG18', 'FMRKT_ANMLPROD18', 'FMRKT_BAKED18', 'PCT_DIABETES_ADULTS08', 'PCT_DIABETES_ADULTS13', 'PCT_OBESE_ADULTS12', 'PCT_OBESE_ADULTS17', 'PCT_NHWHITE10', 'PCT_NHBLACK10', 'PCT_HISP10', 'PCT_NHASIAN10', 'PCT_NHNA10', 'PCT_NHPI10', 'PCT_65OLDER10', 'PCT_18YOUNGER10', 'MEDHHINC15', 'POVRATE15', 'PERPOV10', 'CHILDPOVRATE15', 'PERCHLDPOV10']\n"
     ]
    }
   ],
   "source": [
    "# clean food evironment atlas\n",
    "\n",
    "food_environ_data = pd.read_csv('../data/other-data-raw/food-environment-atlas-raw/state_county_data_raw.csv')\n",
    "variable_names = pd.read_csv('../data/other-data-raw/food-environment-atlas-raw/variable_list_pruned.csv')\n",
    "\n",
    "valid_variable_codes = variable_names['Variable Code'].tolist()\n",
    "print(valid_variable_codes)\n",
    "\n",
    "# filter the rows based on the variable codes\n",
    "filtered_data = food_environ_data[food_environ_data['Variable_Code'].isin(valid_variable_codes)]\n",
    "# drop the FIPS column\n",
    "filtered_data = filtered_data.drop(columns=['FIPS'])\n",
    "\n",
    "filtered_data.to_csv('../data/other-data-clean/food_environ_county_data_clean.csv', index=False)"
   ]
  },
  {
   "cell_type": "code",
   "execution_count": 7,
   "id": "17f58bdf-5f7b-412a-aa41-b83d3f47eda3",
   "metadata": {},
   "outputs": [],
   "source": [
    "# extract state data from county data\n",
    "cleaned_county_data = pd.read_csv('../data/other-data-clean/county_data_clean.csv')\n",
    "variable_names = pd.read_csv('../data/other-data-raw/food-environment-atlas-raw/variable_list_pruned.csv')\n",
    "\n",
    "# only include count variables\n",
    "valid_variable_codes = variable_names[variable_names['Units'].str.contains('Count', na=False)]['Variable Code'].tolist()\n",
    "filtered_data = cleaned_county_data[cleaned_county_data['Variable_Code'].isin(valid_variable_codes)]\n",
    "\n",
    "# group by 'State' and 'Variable_Code' columns and sum the 'Value' column\n",
    "state_variable_data = filtered_data.groupby(['State', 'Variable_Code'], as_index=False)['Value'].sum()\n",
    "\n",
    "state_variable_data.to_csv('../data/other-data-clean/food_environ_state_data_clean.csv', index=False)"
   ]
  },
  {
   "cell_type": "code",
   "execution_count": 6,
   "id": "37f34cd4-2f3e-4bbd-a738-f5f5623e0553",
   "metadata": {},
   "outputs": [
    {
     "name": "stdout",
     "output_type": "stream",
     "text": [
      "['Percent of students in grades 9-12 who achieve 1 hour or more of moderate-and/or vigorous-intensity physical activity daily'\n",
      " 'Percent of students in grades 9-12 who have obesity'\n",
      " 'Percent of students in grades 9-12 who participate in daily physical education'\n",
      " 'Percent of students in grades 9-12 who have an overweight classification'\n",
      " 'Percent of students in grades 9-12 who drank regular soda/pop at least one time per day'\n",
      " 'Percent of students in grades 9-12 who consume vegetables less than 1 time daily'\n",
      " 'Percent of students in grades 9-12 who consume fruit less than 1 time daily'\n",
      " 'Percent of students in grades 9-12 watching 3 or more hours of television each school day'\n",
      " 'Percent of adults who engage in no leisure-time physical activity'\n",
      " 'Percent of adults aged 18 years and older who have obesity'\n",
      " 'Percent of adults aged 18 years and older who have an overweight classification'\n",
      " 'Percent of adults who achieve at least 300 minutes a week of moderate-intensity aerobic physical activity or 150 minutes a week of vigorous-intensity aerobic activity (or an equivalent combination)'\n",
      " 'Percent of adults who achieve at least 150 minutes a week of moderate-intensity aerobic physical activity or 75 minutes a week of vigorous-intensity aerobic physical activity and engage in muscle-strengthening activities on 2 or more days a week'\n",
      " 'Percent of adults who engage in muscle-strengthening activities on 2 or more days a week'\n",
      " 'Percent of adults who report consuming fruit less than one time daily'\n",
      " 'Percent of adults who achieve at least 150 minutes a week of moderate-intensity aerobic physical activity or 75 minutes a week of vigorous-intensity aerobic activity (or an equivalent combination)'\n",
      " 'Percent of adults who report consuming vegetables less than one time daily']\n"
     ]
    },
    {
     "name": "stderr",
     "output_type": "stream",
     "text": [
      "/var/folders/xr/0vzl322108z0xw4wh8532jj80000gn/T/ipykernel_84111/3325909735.py:3: DtypeWarning: Columns (16) have mixed types. Specify dtype option on import or set low_memory=False.\n",
      "  data = pd.read_csv('../data/provided-data-clean/nutrition-and-obesity-cleaned.csv')\n"
     ]
    }
   ],
   "source": [
    "# unique questions in the cleaned nutrition and obesity\n",
    "\n",
    "data = pd.read_csv('../data/provided-data-clean/nutrition-and-obesity-cleaned.csv')\n",
    "\n",
    "unique_questions = data['Question'].unique()\n",
    "print(unique_questions)"
   ]
  },
  {
   "cell_type": "code",
   "execution_count": null,
   "id": "9f3b809d-5976-4745-8b50-934bddfafd77",
   "metadata": {},
   "outputs": [],
   "source": []
  }
 ],
 "metadata": {
  "kernelspec": {
   "display_name": "datathon",
   "language": "python",
   "name": "venv"
  },
  "language_info": {
   "codemirror_mode": {
    "name": "ipython",
    "version": 3
   },
   "file_extension": ".py",
   "mimetype": "text/x-python",
   "name": "python",
   "nbconvert_exporter": "python",
   "pygments_lexer": "ipython3",
   "version": "3.11.7"
  }
 },
 "nbformat": 4,
 "nbformat_minor": 5
}
