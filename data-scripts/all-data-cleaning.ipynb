{
 "cells": [
  {
   "cell_type": "code",
   "execution_count": 2,
   "id": "864bd359-06bf-4eaf-a23d-2ad6c11f987a",
   "metadata": {},
   "outputs": [],
   "source": [
    "import pandas as pd"
   ]
  },
  {
   "cell_type": "code",
   "execution_count": 19,
   "id": "0f399f90-da2d-4930-860c-c106395b327e",
   "metadata": {},
   "outputs": [
    {
     "name": "stderr",
     "output_type": "stream",
     "text": [
      "/var/folders/73/mqvvsvdn6k10b__2ljzg54s00000gn/T/ipykernel_43226/1617535161.py:1: DtypeWarning: Columns (18,19,21,22) have mixed types. Specify dtype option on import or set low_memory=False.\n",
      "  obesity_data =  pd.read_csv('../data/provided-data-raw/Nutrition_Physical_Activity_and_Obesity_Data.csv')\n"
     ]
    }
   ],
   "source": [
    "obesity_data =  pd.read_csv('../data/provided-data-raw/Nutrition_Physical_Activity_and_Obesity_Data.csv')\n",
    "\n",
    "# remove obviously useless or redundant data\n",
    "obesity_data = obesity_data.dropna(subset=['Data_Value'])\n",
    "obesity_data = obesity_data.drop(['YearEnd', 'Data_Value_Unit', 'Data_Value_Type', 'Data_Value_Alt',\n",
    "                                  'Data_Value_Footnote_Symbol', 'Data_Value_Footnote'], axis=1)\n",
    "\n",
    "# need to figure out how we want to further wrangle the data\n",
    "obesity_data.to_csv('../data/provided-data-clean/nutrition-and-obesity-cleaned.csv')"
   ]
  },
  {
   "cell_type": "code",
   "execution_count": 6,
   "id": "b443ce5c-08c5-4638-b089-29e2161f9f32",
   "metadata": {},
   "outputs": [
    {
     "name": "stdout",
     "output_type": "stream",
     "text": [
      "['LACCESS_POP10', 'LACCESS_POP15', 'LACCESS_LOWI10', 'LACCESS_LOWI15', 'LACCESS_HHNV10', 'LACCESS_HHNV15', 'LACCESS_SNAP15', 'LACCESS_CHILD10', 'LACCESS_CHILD15', 'LACCESS_SENIORS10', 'LACCESS_SENIORS15', 'LACCESS_WHITE15', 'LACCESS_BLACK15', 'LACCESS_HISP15', 'LACCESS_NHASIAN15', 'LACCESS_NHNA15', 'LACCESS_NHPI15', 'LACCESS_MULTIR15', 'GROC11', 'GROC16', 'GROCPTH11', 'GROCPTH16', 'SUPERC11', 'SUPERC16', 'SUPERCPTH11', 'SUPERCPTH16', 'CONVS11', 'CONVS16', 'CONVSPTH11', 'CONVSPTH16', 'SPECS11', 'SPECS16', 'SPECSPTH11', 'SPECSPTH16', 'SNAPS12', 'SNAPS17', 'SNAPSPTH12', 'SNAPSPTH17', 'WICS11', 'WICS16', 'WICSPTH11', 'WICSPTH16', 'FFR11', 'FFR16', 'FFRPTH11', 'FFRPTH16', 'FSR11', 'FSR16', 'FSRPTH11', 'FSRPTH16', 'PC_FFRSALES07', 'PC_FFRSALES12', 'PC_FSRSALES07', 'PC_FSRSALES12', 'FOOD_BANKS18', 'FMRKT13', 'FMRKT18', 'FMRKTPTH13', 'FMRKTPTH18', 'FMRKT_FRVEG18', 'FMRKT_ANMLPROD18', 'FMRKT_BAKED18', 'PCT_DIABETES_ADULTS08', 'PCT_DIABETES_ADULTS13', 'PCT_OBESE_ADULTS12', 'PCT_OBESE_ADULTS17', 'PCT_NHWHITE10', 'PCT_NHBLACK10', 'PCT_HISP10', 'PCT_NHASIAN10', 'PCT_NHNA10', 'PCT_NHPI10', 'PCT_65OLDER10', 'PCT_18YOUNGER10', 'MEDHHINC15', 'POVRATE15', 'PERPOV10', 'CHILDPOVRATE15', 'PERCHLDPOV10']\n"
     ]
    }
   ],
   "source": [
    "# clean food evironment atlas\n",
    "\n",
    "food_environ_data = pd.read_csv('../data/other-data-raw/food-environment-atlas-raw/state_county_data_raw.csv')\n",
    "variable_names = pd.read_csv('../data/other-data-raw/food-environment-atlas-raw/variable_list_pruned.csv')\n",
    "\n",
    "valid_variable_codes = variable_names['Variable Code'].tolist()\n",
    "print(valid_variable_codes)\n",
    "\n",
    "# filter the rows based on the variable codes\n",
    "filtered_data = food_environ_data[food_environ_data['Variable_Code'].isin(valid_variable_codes)]\n",
    "# drop the FIPS column\n",
    "filtered_data = filtered_data.drop(columns=['FIPS'])\n",
    "\n",
    "filtered_data.to_csv('../data/other-data-clean/state_county_data_clean.csv', index=False)"
   ]
  },
  {
   "cell_type": "code",
   "execution_count": null,
   "id": "17f58bdf-5f7b-412a-aa41-b83d3f47eda3",
   "metadata": {},
   "outputs": [],
   "source": [
    "# extract state data from county data"
   ]
  }
 ],
 "metadata": {
  "kernelspec": {
   "display_name": "Python 3 (ipykernel)",
   "language": "python",
   "name": "python3"
  },
  "language_info": {
   "codemirror_mode": {
    "name": "ipython",
    "version": 3
   },
   "file_extension": ".py",
   "mimetype": "text/x-python",
   "name": "python",
   "nbconvert_exporter": "python",
   "pygments_lexer": "ipython3",
   "version": "3.8.18"
  }
 },
 "nbformat": 4,
 "nbformat_minor": 5
}
