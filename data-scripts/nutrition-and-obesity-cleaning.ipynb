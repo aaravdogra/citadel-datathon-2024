{
 "cells": [
  {
   "cell_type": "code",
   "execution_count": 1,
   "id": "864bd359-06bf-4eaf-a23d-2ad6c11f987a",
   "metadata": {},
   "outputs": [],
   "source": [
    "import pandas as pd"
   ]
  },
  {
   "cell_type": "code",
   "execution_count": 19,
   "id": "0f399f90-da2d-4930-860c-c106395b327e",
   "metadata": {},
   "outputs": [
    {
     "name": "stderr",
     "output_type": "stream",
     "text": [
      "/var/folders/73/mqvvsvdn6k10b__2ljzg54s00000gn/T/ipykernel_43226/1617535161.py:1: DtypeWarning: Columns (18,19,21,22) have mixed types. Specify dtype option on import or set low_memory=False.\n",
      "  obesity_data =  pd.read_csv('../data/provided-data-raw/Nutrition_Physical_Activity_and_Obesity_Data.csv')\n"
     ]
    }
   ],
   "source": [
    "obesity_data =  pd.read_csv('../data/provided-data-raw/Nutrition_Physical_Activity_and_Obesity_Data.csv')\n",
    "\n",
    "# remove obviously useless or redundant data\n",
    "obesity_data = obesity_data.dropna(subset=['Data_Value'])\n",
    "obesity_data = obesity_data.drop(['YearEnd', 'Data_Value_Unit', 'Data_Value_Type', 'Data_Value_Alt',\n",
    "                                  'Data_Value_Footnote_Symbol', 'Data_Value_Footnote'], axis=1)\n",
    "\n",
    "# need to figure out how we want to further wrangle the data\n",
    "obesity_data.to_csv('../data/provided-data-clean/nutrition-and-obesity-cleaned.csv')"
   ]
  },
  {
   "cell_type": "code",
   "execution_count": null,
   "id": "b443ce5c-08c5-4638-b089-29e2161f9f32",
   "metadata": {},
   "outputs": [],
   "source": []
  }
 ],
 "metadata": {
  "kernelspec": {
   "display_name": "datathon",
   "language": "python",
   "name": "venv"
  },
  "language_info": {
   "codemirror_mode": {
    "name": "ipython",
    "version": 3
   },
   "file_extension": ".py",
   "mimetype": "text/x-python",
   "name": "python",
   "nbconvert_exporter": "python",
   "pygments_lexer": "ipython3",
   "version": "3.11.7"
  }
 },
 "nbformat": 4,
 "nbformat_minor": 5
}
